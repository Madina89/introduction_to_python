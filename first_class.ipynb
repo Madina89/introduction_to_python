{
 "cells": [
  {
   "cell_type": "code",
   "execution_count": 1,
   "metadata": {},
   "outputs": [
    {
     "name": "stdout",
     "output_type": "stream",
     "text": [
      "This is my string\n"
     ]
    }
   ],
   "source": [
    "my_string = 'This is my string'\n",
    "print(my_string)"
   ]
  },
  {
   "cell_type": "code",
   "execution_count": 2,
   "metadata": {},
   "outputs": [
    {
     "name": "stdout",
     "output_type": "stream",
     "text": [
      "<class 'str'>\n"
     ]
    }
   ],
   "source": [
    "print(type(my_string))"
   ]
  },
  {
   "cell_type": "code",
   "execution_count": 13,
   "metadata": {},
   "outputs": [
    {
     "name": "stdout",
     "output_type": "stream",
     "text": [
      "THIS IS MY STRING\n",
      "THIS IS MY STRING\n",
      "This is my string\n"
     ]
    }
   ],
   "source": [
    "my_string = 'THIS IS MY STRING'\n",
    "\n",
    "print(my_string.upper())\n",
    "print(my_string.upper())\n",
    "print(my_string.capitalize())\n",
    "#dir(my_second_string)\n",
    "#print(my_second_string.capitalize())"
   ]
  },
  {
   "cell_type": "code",
   "execution_count": 26,
   "metadata": {},
   "outputs": [
    {
     "name": "stdout",
     "output_type": "stream",
     "text": [
      "iThiss\n"
     ]
    }
   ],
   "source": [
    "word1 = 'This'\n",
    "word2 = 'is'\n",
    "word3 = 'String'\n",
    "total = word1.join(word2)\n",
    "print(total)"
   ]
  },
  {
   "cell_type": "code",
   "execution_count": 28,
   "metadata": {},
   "outputs": [
    {
     "name": "stdout",
     "output_type": "stream",
     "text": [
      "This is my string\n",
      "is my \n"
     ]
    }
   ],
   "source": [
    "mydata = 'This is my string'\n",
    "word1,word2,word3,word4 = mydata.split(' ')\n",
    "\n",
    "\n",
    "\n",
    "\n",
    "total = f'{word1} {word2} {word3} {word4}'#f is format \n",
    "print(total)\n",
    "print(total[5:10])"
   ]
  },
  {
   "cell_type": "code",
   "execution_count": 30,
   "metadata": {},
   "outputs": [
    {
     "name": "stdout",
     "output_type": "stream",
     "text": [
      "this is my string\n",
      "This is my string\n"
     ]
    }
   ],
   "source": [
    "my_string = 'this is my string'\n",
    "print(my_string.strip())\n",
    "print(my_string.strip().capitalize())\n"
   ]
  },
  {
   "cell_type": "code",
   "execution_count": 32,
   "metadata": {},
   "outputs": [
    {
     "name": "stdout",
     "output_type": "stream",
     "text": [
      "This is my string\n"
     ]
    }
   ],
   "source": [
    "my_string = 'This-is-my-string'\n",
    "print(my_string.replace('-',' '))"
   ]
  },
  {
   "cell_type": "code",
   "execution_count": null,
   "metadata": {},
   "outputs": [
    {
     "name": "stdout",
     "output_type": "stream",
     "text": [
      "[master 4313ff7] example class\n",
      " 2 files changed, 185 insertions(+)\n",
      " create mode 100644 .ipynb_checkpoints/First Python Class-checkpoint.ipynb\n",
      " create mode 100644 First Python Class.ipynb\n",
      "Username for 'https://github.com': "
     ]
    }
   ],
   "source": [
    "!git add . && git commit -m 'example class' && git push origin master\n",
    "\n"
   ]
  }
 ],
 "metadata": {
  "kernelspec": {
   "display_name": "Python 3",
   "language": "python",
   "name": "python3"
  },
  "language_info": {
   "codemirror_mode": {
    "name": "ipython",
    "version": 3
   },
   "file_extension": ".py",
   "mimetype": "text/x-python",
   "name": "python",
   "nbconvert_exporter": "python",
   "pygments_lexer": "ipython3",
   "version": "3.6.5"
  }
 },
 "nbformat": 4,
 "nbformat_minor": 2
}
